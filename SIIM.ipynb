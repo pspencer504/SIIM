{
  "nbformat": 4,
  "nbformat_minor": 0,
  "metadata": {
    "colab": {
      "provenance": [],
      "toc_visible": true,
      "include_colab_link": true
    },
    "kernelspec": {
      "name": "python3",
      "display_name": "Python 3"
    },
    "language_info": {
      "name": "python"
    }
  },
  "cells": [
    {
      "cell_type": "markdown",
      "metadata": {
        "id": "view-in-github",
        "colab_type": "text"
      },
      "source": [
        "<a href=\"https://colab.research.google.com/github/pspencer504/SIIM/blob/main/SIIM.ipynb\" target=\"_parent\"><img src=\"https://colab.research.google.com/assets/colab-badge.svg\" alt=\"Open In Colab\"/></a>"
      ]
    },
    {
      "cell_type": "markdown",
      "source": [
        "# Script for Condition AD\n",
        "\n",
        "import requests\n",
        "import json\n",
        "\n",
        "url = \"http://hackathon.siim.org/fhir-r4/Condition\"\n",
        "\n",
        "payload = json.dumps({\n",
        "  \"resourceType\": \"Condition\",\n",
        "  \"clinicalStatus\": \"active\",\n",
        "  \"subject\": \"https://hackathon.siim.org/fhir-r4/Patient/siimirene\",\n",
        "  \"actor\": \"https://hackathon.siim.org/fhir-r4/Patient/siimirene\",\n",
        "  \"code\": [\n",
        "    {\n",
        "      \"system\": \"http://hl7.org/fhir/ValueSet/icd-10\",\n",
        "      \"code\": \"G30.9\",\n",
        "      \"text\": \"Alzheimer's disease, unspecified\"\n",
        "    }\n",
        "  ]\n",
        "})\n",
        "headers = {\n",
        "  'Content-Type': 'application/json',\n",
        "  'apikey': 'bb904c77-dfa6-4487-814b-49db16422605',\n",
        "  'Accept': 'text/json'\n",
        "}\n",
        "\n",
        "response = requests.request(\"POST\", url, headers=headers, data=payload)\n",
        "\n",
        "print(response.text)"
      ],
      "metadata": {
        "id": "LvrFQnJvyiys"
      }
    },
    {
      "cell_type": "markdown",
      "source": [
        "# Diagnostic Report JSON\n",
        "\n",
        "{\n",
        "  \"resourceType\" : \"DiagnosticReport\",\n",
        "  \"meta\" : {\n",
        "    \"profile\" : [\n",
        "      \"https://profiles.ihe.net/RAD/IMR/StructureDefinition/imr-diagnosticreport\"\n",
        "    ]\n",
        "  },\n",
        "  \"extension\" : [\n",
        "    {\n",
        "      \"url\" : \"https://profiles.ihe.net/RAD/IMR/StructureDefinition/associatedStudy\",\n",
        "      \"valueReference\" : {\n",
        "        \"reference\" : \"ImagingStudy/ex-ImagingStudy-Comparison\"\n",
        "      }\n",
        "    }\n",
        "  ],\n",
        "  \"status\" : \"final\",\n",
        "  \"category\" : [\n",
        "    {\n",
        "      \"coding\" : [\n",
        "        {\n",
        "          \"system\" : \"http://terminology.hl7.org/CodeSystem/v2-0074\",\n",
        "          \"code\" : \"RAD\",\n",
        "          \"display\" : \"Radiology\"\n",
        "        }\n",
        "      ]\n",
        "    }\n",
        "  ],\n",
        "  \"code\" : {\n",
        "    \"coding\" : [\n",
        "      {\n",
        "        \"system\" : \"http://loinc.org\",\n",
        "        \"code\" : \"24587-8\",\n",
        "        \"display\" : \"MR Brain WO and W contrast IV\"\n",
        "      }\n",
        "    ]\n",
        "  },\n",
        "  \"subject\" : {\n",
        "    \"reference\" : \"Patient/147\"\n",
        "  },\n",
        "  \"effectiveDateTime\" : \"2020-12-31T23:50:50-05:00\",\n",
        "  \"issued\" : \"2020-12-31T23:55:50-05:00\",\n",
        "  \"result\" : [\n",
        "          {\n",
        "            \"reference\": \"Observation/154\"\n",
        "          },\n",
        "          {\n",
        "            \"reference\": \"Observation/155\"\n",
        "          },\n",
        "          {\n",
        "            \"reference\": \"Observation/156\"\n",
        "          },\n",
        "          {\n",
        "            \"reference\": \"Observation/157\"\n",
        "          },\n",
        "        ],\n",
        "}\n"
      ],
      "metadata": {
        "id": "HB-2f7DWb12C"
      }
    },
    {
      "cell_type": "markdown",
      "source": [
        "# Observation neuropathy JSON\n",
        "\n",
        "{\n",
        "  \"resourceType\" : \"Observation\",\n",
        "  \"status\": \"final\",\n",
        "  \"code\": [\n",
        "    {\n",
        "      \"system\" : \"http://hl7.org/fhir/ValueSet/icd-10\",\n",
        "      \"code\" : \"G60.3\",\n",
        "      \"text\" : \"Idiopathic progressive neuropathy\"\n",
        "    }\n",
        "  ]\n",
        "}"
      ],
      "metadata": {
        "id": "nbL0IrZPJxB5"
      }
    },
    {
      "cell_type": "markdown",
      "source": [
        "# Script for Neuropathy Observation\n",
        "\n"
      ],
      "metadata": {
        "id": "BKsJNOBuZUjh"
      }
    },
    {
      "cell_type": "code",
      "source": [
        "import requests\n",
        "import json\n",
        "\n",
        "url = \"https://hackathon.siim.org/fhir-r4/Observation\"\n",
        "\n",
        "payload = json.dumps({\n",
        "  \"resourceType\": \"Observation\",\n",
        "  \"status\": \"final\",\n",
        "  \"code\": [\n",
        "    {\n",
        "      \"system\": \"http://hl7.org/fhir/ValueSet/icd-10\",\n",
        "      \"code\": \"G60.3\",\n",
        "      \"text\": \"Idiopathic progressive neuropathy\"\n",
        "    }\n",
        "  ]\n",
        "})\n",
        "headers = {\n",
        "  'Content-Type': 'application/json',\n",
        "  'apikey': '095852d6-543c-4e06-98f0-11ffe7ffc105'\n",
        "}\n",
        "\n",
        "response = requests.request(\"POST\", url, headers=headers, data=payload)\n",
        "\n",
        "print(response.text)\n"
      ],
      "metadata": {
        "id": "LHzuaiisZXlp"
      },
      "execution_count": null,
      "outputs": []
    },
    {
      "cell_type": "markdown",
      "source": [
        "# Observation depression JSON\n",
        "\n",
        "{\n",
        "  \"resourceType\" : \"Observation\",\n",
        "  \"status\": \"final\",\n",
        "  \"code\" :  [\n",
        "    {\n",
        "      \"system\" : \"http://hl7.org/fhir/ValueSet/icd-10\",\n",
        "      \"code\" : \"F32.A\",\n",
        "      \"text\" : \"Depression, unspecified\"\n",
        "    }\n",
        "  ]\n",
        "}"
      ],
      "metadata": {
        "id": "wncLr0N3Jsjs"
      }
    },
    {
      "cell_type": "markdown",
      "source": [
        "# Script for Depression Observation\n",
        "\n"
      ],
      "metadata": {
        "id": "5l_B8Ym-ZKhl"
      }
    },
    {
      "cell_type": "code",
      "source": [
        "import requests\n",
        "import json\n",
        "\n",
        "url = \"https://hackathon.siim.org/fhir-r4/Observation\"\n",
        "\n",
        "payload = json.dumps({\n",
        "  \"resourceType\": \"Observation\",\n",
        "  \"status\": \"final\",\n",
        "  \"code\": [\n",
        "    {\n",
        "      \"system\": \"http://hl7.org/fhir/ValueSet/icd-10\",\n",
        "      \"code\": \"F32.A\",\n",
        "      \"text\": \"Depression, unspecified\"\n",
        "    }\n",
        "  ]\n",
        "})\n",
        "headers = {\n",
        "  'Content-Type': 'application/json',\n",
        "  'apikey': '095852d6-543c-4e06-98f0-11ffe7ffc105'\n",
        "}\n",
        "\n",
        "response = requests.request(\"POST\", url, headers=headers, data=payload)\n",
        "\n",
        "print(response.text)\n"
      ],
      "metadata": {
        "id": "P8r_UZRhZOJI"
      },
      "execution_count": null,
      "outputs": []
    },
    {
      "cell_type": "markdown",
      "source": [
        "# Observation superficial siderosis JSON\n",
        "\n",
        "{\n",
        "  \"resourceType\" : \"Observation\",\n",
        "  \"status\": \"final\",\n",
        "  \"code\" :  [\n",
        "    {\n",
        "      \"system\" : \"http://hl7.org/fhir/ValueSet/icd-10\",\n",
        "      \"code\" : \"G96.8\",\n",
        "      \"text\" : \"Other specified disorders of central nervous system\"\n",
        "    }\n",
        "  ]\n",
        "}\n"
      ],
      "metadata": {
        "id": "U97sPsyzJm5f"
      }
    },
    {
      "cell_type": "markdown",
      "source": [
        "# Script for Superficial Siderosis Observation\n",
        "\n"
      ],
      "metadata": {
        "id": "0Iv6t21NY3xl"
      }
    },
    {
      "cell_type": "code",
      "source": [
        "import requests\n",
        "import json\n",
        "\n",
        "url = \"https://hackathon.siim.org/fhir-r4/Observation\"\n",
        "\n",
        "payload = json.dumps({\n",
        "  \"resourceType\": \"Observation\",\n",
        "  \"status\": \"final\",\n",
        "  \"code\": [\n",
        "    {\n",
        "      \"system\": \"http://hl7.org/fhir/ValueSet/icd-10\",\n",
        "      \"code\": \"G96.8\",\n",
        "      \"text\": \"Other specified disorders of central nervous system\"\n",
        "    }\n",
        "  ]\n",
        "})\n",
        "headers = {\n",
        "  'Content-Type': 'application/json',\n",
        "  'apikey': '095852d6-543c-4e06-98f0-11ffe7ffc105'\n",
        "}\n",
        "\n",
        "response = requests.request(\"POST\", url, headers=headers, data=payload)\n",
        "\n",
        "print(response.text)\n"
      ],
      "metadata": {
        "id": "m7IQ0raoY7_W"
      },
      "execution_count": null,
      "outputs": []
    },
    {
      "cell_type": "markdown",
      "source": [
        "# Observation hemorrhage JSON\n",
        "\n",
        "{\n",
        "  \"resourceType\" : \"Observation\",\n",
        "  \"status\": \"final\",\n",
        "  \"code\" :  [\n",
        "    {\n",
        "      \"system\" : \"http://hl7.org/fhir/ValueSet/icd-10\",\n",
        "      \"code\" : \"I61.8\",\n",
        "      \"text\" : \"Other nontraumatic intracerebral hemorrhage\"\n",
        "    }\n",
        "  ]\n",
        "}"
      ],
      "metadata": {
        "id": "_NpDMvSGJg3G"
      }
    },
    {
      "cell_type": "markdown",
      "source": [
        "# Script for Hemorrhage Observation\n",
        "\n"
      ],
      "metadata": {
        "id": "JQ4DmhCvYmgQ"
      }
    },
    {
      "cell_type": "code",
      "source": [
        "import requests\n",
        "import json\n",
        "\n",
        "url = \"https://hackathon.siim.org/fhir-r4/Observation\"\n",
        "\n",
        "payload = json.dumps({\n",
        "  \"resourceType\": \"Observation\",\n",
        "  \"status\": \"final\",\n",
        "  \"code\": [\n",
        "    {\n",
        "      \"system\": \"http://hl7.org/fhir/ValueSet/icd-10\",\n",
        "      \"code\": \"I61.8\",\n",
        "      \"text\": \"Other nontraumatic intracerebral hemorrhage\"\n",
        "    }\n",
        "  ]\n",
        "})\n",
        "headers = {\n",
        "  'Content-Type': 'application/json',\n",
        "  'apikey': '095852d6-543c-4e06-98f0-11ffe7ffc105'\n",
        "}\n",
        "\n",
        "response = requests.request(\"POST\", url, headers=headers, data=payload)\n",
        "\n",
        "print(response.text)\n"
      ],
      "metadata": {
        "id": "xGoqKq3CYuoH"
      },
      "execution_count": null,
      "outputs": []
    },
    {
      "cell_type": "markdown",
      "source": [
        "# Condition hemorrhage JSON\n",
        "\n",
        "{\n",
        "  \"resourceType\" : \"Condition\",\n",
        "  \"clinicalStatus\" : \"active\",\n",
        "  \"subject\" : \"https://hackathon.siim.org/fhir-r4/Patient/siimirene\",\n",
        "  \"actor\" : \"https://hackathon.siim.org/fhir-r4/Patient/siimirene\",\n",
        "  \"code\" :  [\n",
        "    {\n",
        "      \"system\" : \"http://hl7.org/fhir/ValueSet/icd-10\",\n",
        "      \"code\" : \"I61.8\",\n",
        "      \"text\" : \"Other nontraumatic intracerebral hemorrhage\"\n",
        "    }  \n",
        "  ]   \n",
        "}\n",
        "\n",
        "\n"
      ],
      "metadata": {
        "id": "1xKeBGysm5yr"
      }
    },
    {
      "cell_type": "markdown",
      "source": [
        "# Script for Hemorrhage Condition\n",
        "\n"
      ],
      "metadata": {
        "id": "lDgdv_ZwWHoq"
      }
    },
    {
      "cell_type": "code",
      "source": [
        "import requests\n",
        "import json\n",
        "\n",
        "url = \"https://hackathon.siim.org/fhir-r4/Condition\"\n",
        "\n",
        "payload = json.dumps({\n",
        "  \"resourceType\": \"Condition\",\n",
        "  \"clinicalStatus\": \"active\",\n",
        "  \"subject\": \"https://hackathon.siim.org/fhir-r4/Patient/siimirene\",\n",
        "  \"actor\": \"https://hackathon.siim.org/fhir-r4/Patient/siimirene\",\n",
        "  \"code\": [\n",
        "    {\n",
        "      \"system\": \"http://hl7.org/fhir/ValueSet/icd-10\",\n",
        "      \"code\": \"I61.8\",\n",
        "      \"text\": \"Other nontraumatic intracerebral hemorrhage\"\n",
        "    }\n",
        "  ]\n",
        "})\n",
        "headers = {\n",
        "  'Content-Type': 'application/json',\n",
        "  'apikey': '095852d6-543c-4e06-98f0-11ffe7ffc105'\n",
        "}\n",
        "\n",
        "response = requests.request(\"POST\", url, headers=headers, data=payload)\n",
        "\n",
        "print(response.text)\n"
      ],
      "metadata": {
        "id": "sKBOfKaCWMEY"
      },
      "execution_count": null,
      "outputs": []
    },
    {
      "cell_type": "markdown",
      "source": [
        "# Condition superficial siderosis JSON\n",
        "\n",
        "{\n",
        "  \"resourceType\" : \"Condition\",\n",
        "  \"clinicalStatus\" : \"active\",\n",
        "  \"subject\" : \"https://hackathon.siim.org/fhir-r4/Patient/siimirene\",\n",
        "  \"actor\" : \"https://hackathon.siim.org/fhir-r4/Patient/siimirene\",\n",
        "  \"code\" :  [\n",
        "    {\n",
        "      \"system\" : \"http://hl7.org/fhir/ValueSet/icd-10\",\n",
        "      \"code\" : \"G96.8\",\n",
        "      \"text\" : \"Other specified disorders of central nervous system\"\n",
        "\n",
        "    }\n",
        "    \n",
        "    \n",
        "  ]\n",
        "    \n",
        "  \n",
        "}\n",
        "\n",
        "\n"
      ],
      "metadata": {
        "id": "FZHoQyLlnIzX"
      }
    },
    {
      "cell_type": "markdown",
      "source": [
        "# Script for Superficial Siderosis Condition\n",
        "\n"
      ],
      "metadata": {
        "id": "kgJh1_LgV7zr"
      }
    },
    {
      "cell_type": "code",
      "source": [
        "import requests\n",
        "import json\n",
        "\n",
        "url = \"https://hackathon.siim.org/fhir-r4/Condition\"\n",
        "\n",
        "payload = json.dumps({\n",
        "  \"resourceType\": \"Condition\",\n",
        "  \"clinicalStatus\": \"active\",\n",
        "  \"subject\": \"https://hackathon.siim.org/fhir-r4/Patient/siimirene\",\n",
        "  \"actor\": \"https://hackathon.siim.org/fhir-r4/Patient/siimirene\",\n",
        "  \"code\": [\n",
        "    {\n",
        "      \"system\": \"http://hl7.org/fhir/ValueSet/icd-10\",\n",
        "      \"code\": \"G96.8\",\n",
        "      \"text\": \"Other specified disorders of central nervous system\"\n",
        "    }\n",
        "  ]\n",
        "})\n",
        "headers = {\n",
        "  'Content-Type': 'application/json',\n",
        "  'apikey': '095852d6-543c-4e06-98f0-11ffe7ffc105'\n",
        "}\n",
        "\n",
        "response = requests.request(\"POST\", url, headers=headers, data=payload)\n",
        "\n",
        "print(response.text)\n"
      ],
      "metadata": {
        "id": "AqC6qeG1V_e3"
      },
      "execution_count": null,
      "outputs": []
    },
    {
      "cell_type": "markdown",
      "source": [
        "# Condition depression  JSON\n",
        "\n",
        "\n",
        "{\n",
        "  \"resourceType\" : \"Condition\",\n",
        "  \"clinicalStatus\" : \"active\",\n",
        "  \"subject\" : \"https://hackathon.siim.org/fhir-r4/Patient/siimirene\",\n",
        "  \"actor\" : \"https://hackathon.siim.org/fhir-r4/Patient/siimirene\",\n",
        "  \"code\" :  [\n",
        "    {\n",
        "      \"system\" : \"http://hl7.org/fhir/ValueSet/icd-10\",\n",
        "      \"code\" : \"F32.A\",\n",
        "      \"text\" : \"Depression, unspecified\"\n",
        "\n",
        "    }\n",
        "    \n",
        "    \n",
        "  ]\n",
        "    \n",
        "  \n",
        "}\n",
        "\n",
        "\n"
      ],
      "metadata": {
        "id": "Yyh9WKZVnUsM"
      }
    },
    {
      "cell_type": "markdown",
      "source": [
        "# Script for Depression Condition\n",
        "\n"
      ],
      "metadata": {
        "id": "0gizA5Z_Vtoz"
      }
    },
    {
      "cell_type": "code",
      "source": [
        "import requests\n",
        "import json\n",
        "\n",
        "url = \"https://hackathon.siim.org/fhir-r4/Condition\"\n",
        "\n",
        "payload = json.dumps({\n",
        "  \"resourceType\": \"Condition\",\n",
        "  \"clinicalStatus\": \"active\",\n",
        "  \"subject\": \"https://hackathon.siim.org/fhir-r4/Patient/siimirene\",\n",
        "  \"actor\": \"https://hackathon.siim.org/fhir-r4/Patient/siimirene\",\n",
        "  \"code\": [\n",
        "    {\n",
        "      \"system\": \"http://hl7.org/fhir/ValueSet/icd-10\",\n",
        "      \"code\": \"F32.A\",\n",
        "      \"text\": \"Depression, unspecified\"\n",
        "    }\n",
        "  ]\n",
        "})\n",
        "headers = {\n",
        "  'Content-Type': 'application/json',\n",
        "  'apikey': '095852d6-543c-4e06-98f0-11ffe7ffc105'\n",
        "}\n",
        "\n",
        "response = requests.request(\"POST\", url, headers=headers, data=payload)\n",
        "\n",
        "print(response.text)\n"
      ],
      "metadata": {
        "id": "FDvQULUZVwhT"
      },
      "execution_count": null,
      "outputs": []
    },
    {
      "cell_type": "markdown",
      "source": [
        "# Condition neuropathy JSON\n",
        "\n",
        "{\n",
        "  \"resourceType\" : \"Condition\",\n",
        "  \"clinicalStatus\" : \"active\",\n",
        "  \"subject\" : \"https://hackathon.siim.org/fhir-r4/Patient/siimirene\",\n",
        "  \"actor\" : \"https://hackathon.siim.org/fhir-r4/Patient/siimirene\",\n",
        "  \"code\" :  [\n",
        "    {\n",
        "      \"system\" : \"http://hl7.org/fhir/ValueSet/icd-10\",\n",
        "      \"code\" : \"G60.3\",\n",
        "      \"text\" : \"Idiopathic progressive neuropathy\"\n",
        "    }\n",
        "    \n",
        "  ]\n",
        "    \n",
        "  \n",
        "}"
      ],
      "metadata": {
        "id": "2SwApnuinYgw"
      }
    },
    {
      "cell_type": "markdown",
      "source": [
        "# Script for Neuropathy Condition\n",
        "\n"
      ],
      "metadata": {
        "id": "QPLJLRYUVZSl"
      }
    },
    {
      "cell_type": "code",
      "source": [
        "import requests\n",
        "import json\n",
        "\n",
        "url = \"https://hackathon.siim.org/fhir-r4/Condition\"\n",
        "\n",
        "payload = json.dumps({\n",
        "  \"resourceType\": \"Condition\",\n",
        "  \"clinicalStatus\": \"active\",\n",
        "  \"subject\": \"https://hackathon.siim.org/fhir-r4/Patient/siimirene\",\n",
        "  \"actor\": \"https://hackathon.siim.org/fhir-r4/Patient/siimirene\",\n",
        "  \"code\": [\n",
        "    {\n",
        "      \"system\": \"http://hl7.org/fhir/ValueSet/icd-10\",\n",
        "      \"code\": \"G60.3\",\n",
        "      \"text\": \"Idiopathic progressive neuropathy\"\n",
        "    }\n",
        "  ]\n",
        "})\n",
        "headers = {\n",
        "  'Content-Type': 'application/json',\n",
        "  'apikey': '095852d6-543c-4e06-98f0-11ffe7ffc105'\n",
        "}\n",
        "\n",
        "response = requests.request(\"POST\", url, headers=headers, data=payload)\n",
        "\n",
        "print(response.text)\n"
      ],
      "metadata": {
        "id": "mBhGyaiEVeaO"
      },
      "execution_count": null,
      "outputs": []
    },
    {
      "cell_type": "markdown",
      "source": [
        "# Patient Info JSON\n",
        "\n",
        "{\n",
        "    \"resourceType\": \"Patient\",\n",
        "    \"id\": \"siimirene\",\n",
        "    \"meta\": {\n",
        "        \"versionId\": \"1\",\n",
        "        \"lastUpdated\": \"2024-06-27T07:04:52.102+00:00\",\n",
        "        \"source\": \"#Nvs8hlFxX5JkzXb6\"\n",
        "    },\n",
        "    \"text\": {\n",
        "        \"status\": \"generated\",\n",
        "        \"div\": \"<div xmlns=\\\"http://www.w3.org/1999/xhtml\\\">\\r\\n  <table>\\r\\n    <tbody>\\r\\n      <tr>\\r\\n        <td>Name</td>\\r\\n        <td>Irene <b>SIIM</b></td>\\r\\n      </tr>\\r\\n      <tr>\\r\\n        <td>Address</td>\\r\\n        <td>534 Erewhon, Rochester, MD, 53999</td>\\r\\n      </tr>\\r\\n      <tr>\\r\\n        <td>Contacts</td>\\r\\n        <td>Home: unknown. Work: (03) 5555 6473</td>\\r\\n      </tr>\\r\\n      <tr>\\r\\n        <td>Id</td>\\r\\n        <td>MRN: BreastDx-01-0003 (TCIA)</td>\\r\\n      </tr>\\r\\n    </tbody>\\r\\n  </table>\\r\\n</div>\"\n",
        "    },\n",
        "    \"identifier\": [\n",
        "        {\n",
        "            \"use\": \"usual\",\n",
        "            \"system\": \"urn:oid:2.16.840.1.113883.6.1\",\n",
        "            \"value\": \"Irene_001\",\n",
        "            \"period\": {\n",
        "                \"start\": \"2019-04-02\"\n",
        "            },\n",
        "            \"assigner\": {\n",
        "                \"display\": \"TCIA\"\n",
        "            }\n",
        "        }\n",
        "    ],\n",
        "    \"active\": true,\n",
        "    \"name\": [\n",
        "        {\n",
        "            \"use\": \"official\",\n",
        "            \"family\": \"SIIM\",\n",
        "            \"given\": [\n",
        "                \"Irene\"\n",
        "            ]\n",
        "        },\n",
        "        {\n",
        "            \"use\": \"usual\",\n",
        "            \"given\": [\n",
        "                \"Irene\"\n",
        "            ]\n",
        "        }\n",
        "    ],\n",
        "    \"telecom\": [\n",
        "        {\n",
        "            \"use\": \"home\"\n",
        "        },\n",
        "        {\n",
        "            \"system\": \"phone\",\n",
        "            \"value\": \"(214) 529 8803\",\n",
        "            \"use\": \"work\"\n",
        "        }\n",
        "    ],\n",
        "    \"gender\": \"female\",\n",
        "    \"birthDate\": \"1960-06-11\",\n",
        "    \"deceasedBoolean\": false,\n",
        "    \"address\": [\n",
        "        {\n",
        "            \"use\": \"home\",\n",
        "            \"line\": [\n",
        "                \"534 Citadel St\"\n",
        "            ],\n",
        "            \"city\": \"Amarillo\",\n",
        "            \"state\": \"TX\",\n",
        "            \"postalCode\": \"79124\"\n",
        "        }\n",
        "    ],\n",
        "    \"contact\": [\n",
        "        {\n",
        "            \"relationship\": [\n",
        "                {\n",
        "                    \"coding\": [\n",
        "                        {\n",
        "                            \"system\": \"http://terminology.hl7.org/CodeSystem/v2-0131\",\n",
        "                            \"code\": \"C\",\n",
        "                            \"display\": \"Emergency Contact\"\n",
        "                        }\n",
        "                    ]\n",
        "                }\n",
        "            ],\n",
        "            \"name\": {\n",
        "                \"family\": \"Niko\",\n",
        "                \"given\": [\n",
        "                    \"Bénédicte\",\n",
        "                    \"du\"\n",
        "                ]\n",
        "            },\n",
        "            \"telecom\": [\n",
        "                {\n",
        "                    \"system\": \"phone\",\n",
        "                    \"value\": \"+33 (233) 998840\"\n",
        "                }\n",
        "            ]\n",
        "        }\n",
        "    ],\n",
        "    \"managingOrganization\": {\n",
        "        \"reference\": \"Organization/siim\"\n",
        "    }\n",
        "}"
      ],
      "metadata": {
        "id": "cqkZekwP2os9"
      }
    },
    {
      "cell_type": "markdown",
      "source": [
        "# Script for Diagnostic Report\n",
        "\n"
      ],
      "metadata": {
        "id": "p1xanJRTbi-s"
      }
    },
    {
      "cell_type": "markdown",
      "source": [
        "# Condition AD\n",
        "\n",
        "{\n",
        "  \"resourceType\" : \"Condition\",\n",
        "  \"clinicalStatus\" : \"active\",\n",
        "  \"subject\" : \"https://hackathon.siim.org/fhir-r4/Patient/siimirene\",\n",
        "  \"actor\" : \"https://hackathon.siim.org/fhir-r4/Patient/siimirene\",\n",
        "  \"code\" :  [\n",
        "    {\n",
        "      \"system\" : \"http://hl7.org/fhir/ValueSet/icd-10\",\n",
        "      \"code\" : \"G30.9\",\n",
        "      \"text\" : \"Alzheimer's disease, unspecified\"\n",
        "    }\n",
        "  ]\n",
        "}"
      ],
      "metadata": {
        "id": "L7eLGuJIunGz"
      }
    },
    {
      "cell_type": "code",
      "source": [
        "import requests\n",
        "import json\n",
        "\n",
        "url = \"https://hackathon.siim.org/fhir-r4/DiagnosticReport\"\n",
        "\n",
        "payload = json.dumps({\n",
        "  \"resourceType\": \"DiagnosticReport\",\n",
        "  \"meta\": {\n",
        "    \"profile\": [\n",
        "      \"https://profiles.ihe.net/RAD/IMR/StructureDefinition/imr-diagnosticreport\"\n",
        "    ]\n",
        "  },\n",
        "  \"extension\": [\n",
        "    {\n",
        "      \"url\": \"https://profiles.ihe.net/RAD/IMR/StructureDefinition/associatedStudy\",\n",
        "      \"valueReference\": {\n",
        "        \"reference\": \"ImagingStudy/ex-ImagingStudy-Comparison\"\n",
        "      }\n",
        "    }\n",
        "  ],\n",
        "  \"status\": \"final\",\n",
        "  \"category\": [\n",
        "    {\n",
        "      \"coding\": [\n",
        "        {\n",
        "          \"system\": \"http://terminology.hl7.org/CodeSystem/v2-0074\",\n",
        "          \"code\": \"RAD\",\n",
        "          \"display\": \"Radiology\"\n",
        "        }\n",
        "      ]\n",
        "    }\n",
        "  ],\n",
        "  \"code\": {\n",
        "    \"coding\": [\n",
        "      {\n",
        "        \"system\": \"http://loinc.org\",\n",
        "        \"code\": \"24587-8\",\n",
        "        \"display\": \"MR Brain WO and W contrast IV\"\n",
        "      }\n",
        "    ]\n",
        "  },\n",
        "  \"subject\": {\n",
        "    \"reference\": \"Patient/147\"\n",
        "  },\n",
        "  \"effectiveDateTime\": \"2020-12-31T23:50:50-05:00\",\n",
        "  \"issued\": \"2020-12-31T23:55:50-05:00\",\n",
        "  \"result\": [\n",
        "    {\n",
        "      \"reference\": \"Observation/154\"\n",
        "    },\n",
        "    {\n",
        "      \"reference\": \"Observation/155\"\n",
        "    },\n",
        "    {\n",
        "      \"reference\": \"Observation/156\"\n",
        "    },\n",
        "    {\n",
        "      \"reference\": \"Observation/157\"\n",
        "    }\n",
        "  ]\n",
        "})\n",
        "headers = {\n",
        "  'Content-Type': 'application/json',\n",
        "  'apikey': '095852d6-543c-4e06-98f0-11ffe7ffc105'\n",
        "}\n",
        "\n",
        "response = requests.request(\"POST\", url, headers=headers, data=payload)\n",
        "\n",
        "print(response.text)\n"
      ],
      "metadata": {
        "id": "3U2fJqQSbl9S"
      },
      "execution_count": null,
      "outputs": []
    },
    {
      "cell_type": "markdown",
      "source": [
        "# Script for Patient\n",
        "\n"
      ],
      "metadata": {
        "id": "SBhBRQLVPwvJ"
      }
    },
    {
      "cell_type": "code",
      "source": [
        "import requests\n",
        "import json\n",
        "\n",
        "url = \"https://hackathon.siim.org/fhir-r4/Patient\"\n",
        "\n",
        "payload = json.dumps({\n",
        "  \"resourceType\": \"Patient\",\n",
        "  \"id\": \"siimirene\",\n",
        "  \"meta\": {\n",
        "    \"versionId\": \"1\",\n",
        "    \"lastUpdated\": \"2024-06-27T07:04:52.102+00:00\",\n",
        "    \"source\": \"#Nvs8hlFxX5JkzXb6\"\n",
        "  },\n",
        "  \"text\": {\n",
        "    \"status\": \"generated\",\n",
        "    \"div\": \"<div xmlns=\\\"http://www.w3.org/1999/xhtml\\\">\\r\\n  <table>\\r\\n    <tbody>\\r\\n      <tr>\\r\\n        <td>Name</td>\\r\\n        <td>Thierry <b>SIIM</b></td>\\r\\n      </tr>\\r\\n      <tr>\\r\\n        <td>Address</td>\\r\\n        <td>534 Erewhon, Rochester, MD, 53999</td>\\r\\n      </tr>\\r\\n      <tr>\\r\\n        <td>Contacts</td>\\r\\n        <td>Home: unknown. Work: (03) 5555 6473</td>\\r\\n      </tr>\\r\\n      <tr>\\r\\n        <td>Id</td>\\r\\n        <td>MRN: BreastDx-01-0003 (TCIA)</td>\\r\\n      </tr>\\r\\n    </tbody>\\r\\n  </table>\\r\\n</div>\"\n",
        "  },\n",
        "  \"identifier\": [\n",
        "    {\n",
        "      \"use\": \"usual\",\n",
        "      \"system\": \"urn:oid:2.16.840.1.113883.6.1\",\n",
        "      \"value\": \"Irene_001\",\n",
        "      \"period\": {\n",
        "        \"start\": \"2019-04-02\"\n",
        "      },\n",
        "      \"assigner\": {\n",
        "        \"display\": \"TCIA\"\n",
        "      }\n",
        "    }\n",
        "  ],\n",
        "  \"active\": True,\n",
        "  \"name\": [\n",
        "    {\n",
        "      \"use\": \"official\",\n",
        "      \"family\": \"SIIM\",\n",
        "      \"given\": [\n",
        "        \"Irene\"\n",
        "      ]\n",
        "    },\n",
        "    {\n",
        "      \"use\": \"usual\",\n",
        "      \"given\": [\n",
        "        \"Irene\"\n",
        "      ]\n",
        "    }\n",
        "  ],\n",
        "  \"telecom\": [\n",
        "    {\n",
        "      \"use\": \"home\"\n",
        "    },\n",
        "    {\n",
        "      \"system\": \"phone\",\n",
        "      \"value\": \"(214) 529 8803\",\n",
        "      \"use\": \"work\"\n",
        "    }\n",
        "  ],\n",
        "  \"gender\": \"female\",\n",
        "  \"birthDate\": \"1960-06-11\",\n",
        "  \"deceasedBoolean\": False,\n",
        "  \"address\": [\n",
        "    {\n",
        "      \"use\": \"home\",\n",
        "      \"line\": [\n",
        "        \"534 Citadel St\"\n",
        "      ],\n",
        "      \"city\": \"Amarillo\",\n",
        "      \"state\": \"TX\",\n",
        "      \"postalCode\": \"79124\"\n",
        "    }\n",
        "  ],\n",
        "  \"contact\": [\n",
        "    {\n",
        "      \"relationship\": [\n",
        "        {\n",
        "          \"coding\": [\n",
        "            {\n",
        "              \"system\": \"http://terminology.hl7.org/CodeSystem/v2-0131\",\n",
        "              \"code\": \"C\",\n",
        "              \"display\": \"Emergency Contact\"\n",
        "            }\n",
        "          ]\n",
        "        }\n",
        "      ],\n",
        "      \"name\": {\n",
        "        \"family\": \"Niko\",\n",
        "        \"given\": [\n",
        "          \"Bénédicte\",\n",
        "          \"du\"\n",
        "        ]\n",
        "      },\n",
        "      \"telecom\": [\n",
        "        {\n",
        "          \"system\": \"phone\",\n",
        "          \"value\": \"+33 (233) 998840\"\n",
        "        }\n",
        "      ]\n",
        "    }\n",
        "  ],\n",
        "  \"managingOrganization\": {\n",
        "    \"reference\": \"Organization/siim\"\n",
        "  }\n",
        "})\n",
        "headers = {\n",
        "  'Content-Type': 'application/json',\n",
        "  'apikey': '095852d6-543c-4e06-98f0-11ffe7ffc105'\n",
        "}\n",
        "\n",
        "response = requests.request(\"POST\", url, headers=headers, data=payload)\n",
        "\n",
        "print(response.text)\n"
      ],
      "metadata": {
        "id": "gNaBtDMZP6gP"
      },
      "execution_count": null,
      "outputs": []
    },
    {
      "cell_type": "markdown",
      "source": [
        "# Undesirable Effects Micro Hemmorrhage JSON\n",
        "\n",
        "{\n",
        "  \"resourceType\" : \"MedicinalProductUndesirableEffect\",\n",
        "  \"subject\" : \"Medication/148\", // The medication for which this is an indication\n",
        "  \"symptomConditionEffect\" : {\n",
        "      \"coding\": [\n",
        "        {\n",
        "          \"system\": \"http://hl7.org/fhir/ValueSet/icd-10\"\n",
        "          \"code\": \"I61.8\"\n",
        "        }\n",
        "      ],\n",
        "      \"text\": \"Other nontraumatic intracerebral hemorrhage\"\n",
        "  }\n",
        "}"
      ],
      "metadata": {
        "id": "DDmHZ2tC21EH"
      }
    },
    {
      "cell_type": "markdown",
      "source": [
        "# Merge and Comparing Script\n",
        "\n"
      ],
      "metadata": {
        "id": "m0FjEQ_ZrVQq"
      }
    },
    {
      "cell_type": "code",
      "source": [
        "%pip install fhir.resources\n",
        "\n",
        "import json\n",
        "\n",
        "def call_medEffect():\n",
        "  querystring = {'PatientID' : patientId, 'includefield' : 'SeriesInstanceUID,SOPInstanceUID'}\n",
        "  apikey = \"095852d6-543c-4e06-98f0-11ffe7ffc105\"\n",
        "  headers = {\n",
        "      'Content-Type' : \"application/json\",\n",
        "      'Accept': \"text/json\",\n",
        "      'apikey': apikey\n",
        "      }\n",
        "  medEffect_query_url = \"https://hackathon.siim.org/fhir-r4/MedicinalProductUndesirableEffect?subject=Medication/148\"\n",
        "  observation_query_url = \"https://hackathon.siim.org/fhir-r4/Observation?code.code=I61.8\"\n",
        "  radOb_query_url = \"https://hackathon.siim.org/fhir-r4/DiagnosticReport?result=Observation/154\"\n",
        "  medication_query_url = \"https://hackathon.siim.org/fhir-r4/Medication?Coding.code=126202002\"\n",
        "  #print (\"fetching \" + query_url)\n",
        "  medEffect_response = requests.request(\"GET\", query_url, data=\"\", headers=headers, params=querystring)\n",
        "  observation_response = requests.request(\"GET\", query_url, data=\"\", headers=headers, params=querystring)\n",
        "  radOb_response = requests.request(\"GET\", query_url, data=\"\", headers=headers, params=querystring)\n",
        "  medication_response = requests.request(\"GET\", query_url, data=\"\", headers=headers, params=querystring)\n",
        "  #print (\"Study details\", response.text)\n",
        "  return json.loads(response.text)\n",
        "\n",
        "\n",
        "print(json.dumps(main(), indent=2))\n",
        "\n"
      ],
      "metadata": {
        "colab": {
          "base_uri": "https://localhost:8080/"
        },
        "id": "K7wyVE3yrbUa",
        "outputId": "54fcb9af-6493-47c1-e963-42eeb0f7d56d"
      },
      "execution_count": null,
      "outputs": [
        {
          "output_type": "stream",
          "name": "stdout",
          "text": [
            "Collecting fhir.resources\n",
            "  Downloading fhir.resources-7.1.0-py2.py3-none-any.whl (3.1 MB)\n",
            "\u001b[2K     \u001b[90m━━━━━━━━━━━━━━━━━━━━━━━━━━━━━━━━━━━━━━━━\u001b[0m \u001b[32m3.1/3.1 MB\u001b[0m \u001b[31m12.5 MB/s\u001b[0m eta \u001b[36m0:00:00\u001b[0m\n",
            "\u001b[?25hRequirement already satisfied: pydantic[email]<3.0,>=2.0.1 in /usr/local/lib/python3.10/dist-packages (from fhir.resources) (2.7.4)\n",
            "Requirement already satisfied: annotated-types>=0.4.0 in /usr/local/lib/python3.10/dist-packages (from pydantic[email]<3.0,>=2.0.1->fhir.resources) (0.7.0)\n",
            "Requirement already satisfied: pydantic-core==2.18.4 in /usr/local/lib/python3.10/dist-packages (from pydantic[email]<3.0,>=2.0.1->fhir.resources) (2.18.4)\n",
            "Requirement already satisfied: typing-extensions>=4.6.1 in /usr/local/lib/python3.10/dist-packages (from pydantic[email]<3.0,>=2.0.1->fhir.resources) (4.12.2)\n",
            "Collecting email-validator>=2.0.0 (from pydantic[email]<3.0,>=2.0.1->fhir.resources)\n",
            "  Downloading email_validator-2.2.0-py3-none-any.whl (33 kB)\n",
            "Collecting dnspython>=2.0.0 (from email-validator>=2.0.0->pydantic[email]<3.0,>=2.0.1->fhir.resources)\n",
            "  Downloading dnspython-2.6.1-py3-none-any.whl (307 kB)\n",
            "\u001b[2K     \u001b[90m━━━━━━━━━━━━━━━━━━━━━━━━━━━━━━━━━━━━━━━━\u001b[0m \u001b[32m307.7/307.7 kB\u001b[0m \u001b[31m26.6 MB/s\u001b[0m eta \u001b[36m0:00:00\u001b[0m\n",
            "\u001b[?25hRequirement already satisfied: idna>=2.0.0 in /usr/local/lib/python3.10/dist-packages (from email-validator>=2.0.0->pydantic[email]<3.0,>=2.0.1->fhir.resources) (3.7)\n",
            "Installing collected packages: dnspython, email-validator, fhir.resources\n",
            "Successfully installed dnspython-2.6.1 email-validator-2.2.0 fhir.resources-7.1.0\n"
          ]
        }
      ]
    },
    {
      "cell_type": "markdown",
      "source": [
        "# Medication JSON\n",
        "{\n",
        "    \"resourceType\": \"Medication\",\n",
        "    \"id\": \"m126202002\",\n",
        "    \"meta\": {\n",
        "        \"versionId\": \"1\",\n",
        "        \"lastUpdated\": \"2024-06-27T07:04:49.767+00:00\",\n",
        "        \"source\": \"#d8XrESTk5pP0zZZE\"\n",
        "    },\n",
        "    \"text\": {\n",
        "        \"status\": \"generated\",\n",
        "        \"div\": \"<div xmlns=\\\"http://www.w3.org/1999/xhtml\\\"><div class=\\\"hapiHeaderText\\\"> Levothyroxine sodium </div></div>\"\n",
        "    },\n",
        "    \"code\": {\n",
        "        \"coding\": [\n",
        "            {\n",
        "                \"system\": \"http://snomed.info/sct\",\n",
        "                \"code\": \"126202002\",\n",
        "                \"display\": \"Lecanemab\"\n",
        "            }\n",
        "        ]\n",
        "    },\n",
        "    \"doseForm\": {\n",
        "        \"coding\": [\n",
        "            {\n",
        "                \"system\": \"http://snomed.info/sct\",\n",
        "                \"code\": \"46992007\",\n",
        "                \"display\": \"Pill\"\n",
        "            }\n",
        "        ]\n",
        "    }\n",
        "}"
      ],
      "metadata": {
        "id": "B-wDFcD_2vuI"
      }
    },
    {
      "cell_type": "markdown",
      "source": [
        "# Script for Medication\n",
        "\n"
      ],
      "metadata": {
        "id": "3BRCTsk7QX6N"
      }
    },
    {
      "cell_type": "code",
      "source": [
        "import requests\n",
        "import json\n",
        "\n",
        "url = \"https://hackathon.siim.org/fhir-r4/Medication\"\n",
        "\n",
        "payload = json.dumps({\n",
        "  \"resourceType\": \"Medication\",\n",
        "  \"id\": \"m126202002\",\n",
        "  \"meta\": {\n",
        "    \"versionId\": \"1\",\n",
        "    \"lastUpdated\": \"2024-06-27T07:04:49.767+00:00\",\n",
        "    \"source\": \"#d8XrESTk5pP0zZZE\"\n",
        "  },\n",
        "  \"text\": {\n",
        "    \"status\": \"generated\",\n",
        "    \"div\": \"<div xmlns=\\\"http://www.w3.org/1999/xhtml\\\"><div class=\\\"hapiHeaderText\\\"> Levothyroxine sodium </div></div>\"\n",
        "  },\n",
        "  \"code\": {\n",
        "    \"coding\": [\n",
        "      {\n",
        "        \"system\": \"http://snomed.info/sct\",\n",
        "        \"code\": \"126202002\",\n",
        "        \"display\": \"Lecanemab\"\n",
        "      }\n",
        "    ]\n",
        "  },\n",
        "  \"doseForm\": {\n",
        "    \"coding\": [\n",
        "      {\n",
        "        \"system\": \"http://snomed.info/sct\",\n",
        "        \"code\": \"46992007\",\n",
        "        \"display\": \"Pill\"\n",
        "      }\n",
        "    ]\n",
        "  }\n",
        "})\n",
        "headers = {\n",
        "  'Content-Type': 'application/json',\n",
        "  'apikey': '095852d6-543c-4e06-98f0-11ffe7ffc105'\n",
        "}\n",
        "\n",
        "response = requests.request(\"POST\", url, headers=headers, data=payload)\n",
        "\n",
        "print(response.text)\n"
      ],
      "metadata": {
        "id": "QT-ezxEbQal3"
      },
      "execution_count": null,
      "outputs": []
    },
    {
      "cell_type": "markdown",
      "source": [
        "# Script for Medicinal Product Undesireable Effect\n",
        "\n",
        "\n",
        "\n"
      ],
      "metadata": {
        "id": "6geN-lMNS2eW"
      }
    },
    {
      "cell_type": "code",
      "source": [
        "import requests\n",
        "import json\n",
        "\n",
        "url = \"https://hackathon.siim.org/fhir-r4/MedicinalProductUndesirableEffect\"\n",
        "\n",
        "payload = json.dumps({\n",
        "  \"resourceType\": \"MedicinalProductUndesirableEffect\",\n",
        "  \"subject\": \"Medication/148\",\n",
        "  \"symptomConditionEffect\": {\n",
        "    \"coding\": [\n",
        "      {\n",
        "        \"system\": \"http://hl7.org/fhir/ValueSet/icd-10\",\n",
        "        \"code\": \"I61.8\"\n",
        "      }\n",
        "    ],\n",
        "    \"text\": \"Other nontraumatic intracerebral hemorrhage\"\n",
        "  }\n",
        "})\n",
        "headers = {\n",
        "  'Content-Type': 'application/json',\n",
        "  'apikey': '095852d6-543c-4e06-98f0-11ffe7ffc105'\n",
        "}\n",
        "\n",
        "response = requests.request(\"POST\", url, headers=headers, data=payload)\n",
        "\n",
        "print(response.text)\n"
      ],
      "metadata": {
        "id": "pJcIgdaeTwxU"
      },
      "execution_count": null,
      "outputs": []
    }
  ]
}