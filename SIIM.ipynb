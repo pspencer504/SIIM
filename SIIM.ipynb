{
  "nbformat": 4,
  "nbformat_minor": 0,
  "metadata": {
    "colab": {
      "provenance": [],
      "toc_visible": true,
      "collapsed_sections": [
        "PsDQQOJwk26I"
      ],
      "include_colab_link": true
    },
    "kernelspec": {
      "name": "python3",
      "display_name": "Python 3"
    },
    "language_info": {
      "name": "python"
    }
  },
  "cells": [
    {
      "cell_type": "markdown",
      "metadata": {
        "id": "view-in-github",
        "colab_type": "text"
      },
      "source": [
        "<a href=\"https://colab.research.google.com/github/pspencer504/SIIM/blob/main/SIIM.ipynb\" target=\"_parent\"><img src=\"https://colab.research.google.com/assets/colab-badge.svg\" alt=\"Open In Colab\"/></a>"
      ]
    },
    {
      "cell_type": "markdown",
      "source": [
        "# Diagnostic Report JSON\n",
        "\n",
        "{\n",
        "  \"resourceType\" : \"DiagnosticReport\",\n",
        "  \"meta\" : {\n",
        "    \"profile\" : [\n",
        "      \"https://profiles.ihe.net/RAD/IMR/StructureDefinition/imr-diagnosticreport\"\n",
        "    ]\n",
        "  },\n",
        "  \"extension\" : [\n",
        "    {\n",
        "      \"url\" : \"https://profiles.ihe.net/RAD/IMR/StructureDefinition/associatedStudy\",\n",
        "      \"valueReference\" : {\n",
        "        \"reference\" : \"ImagingStudy/ex-ImagingStudy-Comparison\"\n",
        "      }\n",
        "    }\n",
        "  ],\n",
        "  \"status\" : \"final\",\n",
        "  \"category\" : [\n",
        "    {\n",
        "      \"coding\" : [\n",
        "        {\n",
        "          \"system\" : \"http://terminology.hl7.org/CodeSystem/v2-0074\",\n",
        "          \"code\" : \"RAD\",\n",
        "          \"display\" : \"Radiology\"\n",
        "        }\n",
        "      ]\n",
        "    }\n",
        "  ],\n",
        "  \"code\" : {\n",
        "    \"coding\" : [\n",
        "      {\n",
        "        \"system\" : \"http://loinc.org\",\n",
        "        \"code\" : \"24587-8\",\n",
        "        \"display\" : \"MR Brain WO and W contrast IV\"\n",
        "      }\n",
        "    ]\n",
        "  },\n",
        "  \"subject\" : {\n",
        "    \"reference\" : \"Patient/siimirene\"\n",
        "  },\n",
        "  \"effectiveDateTime\" : \"2020-12-31T23:50:50-05:00\",\n",
        "  \"issued\" : \"2020-12-31T23:55:50-05:00\",\n",
        "}\n"
      ],
      "metadata": {
        "id": "HB-2f7DWb12C"
      }
    },
    {
      "cell_type": "markdown",
      "source": [
        "# Observation neuropathy JSON\n",
        "\n",
        "{\n",
        "  \"resourceType\" : \"Observation\",\n",
        "  \"status\": \"final\",\n",
        "  \"code\": [\n",
        "    {\n",
        "      \"system\" : \"http://hl7.org/fhir/ValueSet/icd-10\",\n",
        "      \"code\" : \"G60.3\",\n",
        "      \"text\" : \"Idiopathic progressive neuropathy\"\n",
        "    }\n",
        "  ]\n",
        "}"
      ],
      "metadata": {
        "id": "nbL0IrZPJxB5"
      }
    },
    {
      "cell_type": "markdown",
      "source": [
        "# Observation depression JSON\n",
        "\n",
        "{\n",
        "  \"resourceType\" : \"Observation\",\n",
        "  \"status\": \"final\",\n",
        "  \"code\" :  [\n",
        "    {\n",
        "      \"system\" : \"http://hl7.org/fhir/ValueSet/icd-10\",\n",
        "      \"code\" : \"F32.A\",\n",
        "      \"text\" : \"Depression, unspecified\"\n",
        "    }\n",
        "  ]\n",
        "}"
      ],
      "metadata": {
        "id": "wncLr0N3Jsjs"
      }
    },
    {
      "cell_type": "markdown",
      "source": [
        "# Observation superficial siderosis JSON\n",
        "\n",
        "{\n",
        "  \"resourceType\" : \"Observation\",\n",
        "  \"status\": \"final\",\n",
        "  \"code\" :  [\n",
        "    {\n",
        "      \"system\" : \"http://hl7.org/fhir/ValueSet/icd-10\",\n",
        "      \"code\" : \"G96.8\",\n",
        "      \"text\" : \"Other specified disorders of central nervous system\"\n",
        "    }\n",
        "  ]\n",
        "}\n"
      ],
      "metadata": {
        "id": "U97sPsyzJm5f"
      }
    },
    {
      "cell_type": "markdown",
      "source": [
        "# Observation hemorrhage JSON\n",
        "\n",
        "{\n",
        "  \"resourceType\" : \"Observation\",\n",
        "  \"status\": \"final\",\n",
        "  \"code\" :  [\n",
        "    {\n",
        "      \"system\" : \"http://hl7.org/fhir/ValueSet/icd-10\",\n",
        "      \"code\" : \"I61.8\",\n",
        "      \"text\" : \"Other nontraumatic intracerebral hemorrhage\"\n",
        "    }\n",
        "  ]\n",
        "}"
      ],
      "metadata": {
        "id": "_NpDMvSGJg3G"
      }
    },
    {
      "cell_type": "markdown",
      "source": [
        "# Condition hemorrhage JSON\n",
        "\n",
        "{\n",
        "  \"resourceType\" : \"Condition\",\n",
        "  \"clinicalStatus\" : \"active\",\n",
        "  \"subject\" : \"https://hackathon.siim.org/fhir-r4/Patient/siimirene\",\n",
        "  \"actor\" : \"https://hackathon.siim.org/fhir-r4/Patient/siimirene\",\n",
        "  \"code\" :  [\n",
        "    {\n",
        "      \"system\" : \"http://hl7.org/fhir/ValueSet/icd-10\",\n",
        "      \"code\" : \"I61.8\",\n",
        "      \"text\" : \"Other nontraumatic intracerebral hemorrhage\"\n",
        "    }  \n",
        "  ]   \n",
        "}\n",
        "\n",
        "\n"
      ],
      "metadata": {
        "id": "1xKeBGysm5yr"
      }
    },
    {
      "cell_type": "markdown",
      "source": [
        "# Condition superficial siderosis JSON\n",
        "\n",
        "{\n",
        "  \"resourceType\" : \"Condition\",\n",
        "  \"clinicalStatus\" : \"active\",\n",
        "  \"subject\" : \"https://hackathon.siim.org/fhir-r4/Patient/siimirene\",\n",
        "  \"actor\" : \"https://hackathon.siim.org/fhir-r4/Patient/siimirene\",\n",
        "  \"code\" :  [\n",
        "    {\n",
        "      \"system\" : \"http://hl7.org/fhir/ValueSet/icd-10\",\n",
        "      \"code\" : \"G96.8\",\n",
        "      \"text\" : \"Other specified disorders of central nervous system\"\n",
        "\n",
        "    }\n",
        "    \n",
        "    \n",
        "  ]\n",
        "    \n",
        "  \n",
        "}\n",
        "\n",
        "\n"
      ],
      "metadata": {
        "id": "FZHoQyLlnIzX"
      }
    },
    {
      "cell_type": "markdown",
      "source": [
        "# Condition depression  JSON\n",
        "\n",
        "\n",
        "{\n",
        "  \"resourceType\" : \"Condition\",\n",
        "  \"clinicalStatus\" : \"active\",\n",
        "  \"subject\" : \"https://hackathon.siim.org/fhir-r4/Patient/siimirene\",\n",
        "  \"actor\" : \"https://hackathon.siim.org/fhir-r4/Patient/siimirene\",\n",
        "  \"code\" :  [\n",
        "    {\n",
        "      \"system\" : \"http://hl7.org/fhir/ValueSet/icd-10\",\n",
        "      \"code\" : \"F32.A\",\n",
        "      \"text\" : \"Depression, unspecified\"\n",
        "\n",
        "    }\n",
        "    \n",
        "    \n",
        "  ]\n",
        "    \n",
        "  \n",
        "}\n",
        "\n",
        "\n"
      ],
      "metadata": {
        "id": "Yyh9WKZVnUsM"
      }
    },
    {
      "cell_type": "markdown",
      "source": [
        "# Condition neuropathy JSON\n",
        "\n",
        "{\n",
        "  \"resourceType\" : \"Condition\",\n",
        "  \"clinicalStatus\" : \"active\",\n",
        "  \"subject\" : \"https://hackathon.siim.org/fhir-r4/Patient/siimirene\",\n",
        "  \"actor\" : \"https://hackathon.siim.org/fhir-r4/Patient/siimirene\",\n",
        "  \"code\" :  [\n",
        "    {\n",
        "      \"system\" : \"http://hl7.org/fhir/ValueSet/icd-10\",\n",
        "      \"code\" : \"G60.3\",\n",
        "      \"text\" : \"Idiopathic progressive neuropathy\"\n",
        "    }\n",
        "    \n",
        "  ]\n",
        "    \n",
        "  \n",
        "}"
      ],
      "metadata": {
        "id": "2SwApnuinYgw"
      }
    },
    {
      "cell_type": "markdown",
      "source": [
        "# Patient Info JSON\n",
        "\n",
        "{\n",
        "    \"resourceType\": \"Patient\",\n",
        "    \"id\": \"siimirene\",\n",
        "    \"meta\": {\n",
        "        \"versionId\": \"1\",\n",
        "        \"lastUpdated\": \"2024-06-27T07:04:52.102+00:00\",\n",
        "        \"source\": \"#Nvs8hlFxX5JkzXb6\"\n",
        "    },\n",
        "    \"text\": {\n",
        "        \"status\": \"generated\",\n",
        "        \"div\": \"<div xmlns=\\\"http://www.w3.org/1999/xhtml\\\">\\r\\n  <table>\\r\\n    <tbody>\\r\\n      <tr>\\r\\n        <td>Name</td>\\r\\n        <td>Thierry <b>SIIM</b></td>\\r\\n      </tr>\\r\\n      <tr>\\r\\n        <td>Address</td>\\r\\n        <td>534 Erewhon, Rochester, MD, 53999</td>\\r\\n      </tr>\\r\\n      <tr>\\r\\n        <td>Contacts</td>\\r\\n        <td>Home: unknown. Work: (03) 5555 6473</td>\\r\\n      </tr>\\r\\n      <tr>\\r\\n        <td>Id</td>\\r\\n        <td>MRN: BreastDx-01-0003 (TCIA)</td>\\r\\n      </tr>\\r\\n    </tbody>\\r\\n  </table>\\r\\n</div>\"\n",
        "    },\n",
        "    \"identifier\": [\n",
        "        {\n",
        "            \"use\": \"usual\",\n",
        "            \"system\": \"urn:oid:2.16.840.1.113883.6.1\",\n",
        "            \"value\": \"Irene_001\",\n",
        "            \"period\": {\n",
        "                \"start\": \"2019-04-02\"\n",
        "            },\n",
        "            \"assigner\": {\n",
        "                \"display\": \"TCIA\"\n",
        "            }\n",
        "        }\n",
        "    ],\n",
        "    \"active\": true,\n",
        "    \"name\": [\n",
        "        {\n",
        "            \"use\": \"official\",\n",
        "            \"family\": \"SIIM\",\n",
        "            \"given\": [\n",
        "                \"Irene\"\n",
        "            ]\n",
        "        },\n",
        "        {\n",
        "            \"use\": \"usual\",\n",
        "            \"given\": [\n",
        "                \"Irene\"\n",
        "            ]\n",
        "        }\n",
        "    ],\n",
        "    \"telecom\": [\n",
        "        {\n",
        "            \"use\": \"home\"\n",
        "        },\n",
        "        {\n",
        "            \"system\": \"phone\",\n",
        "            \"value\": \"(214) 529 8803\",\n",
        "            \"use\": \"work\"\n",
        "        }\n",
        "    ],\n",
        "    \"gender\": \"female\",\n",
        "    \"birthDate\": \"1960-06-11\",\n",
        "    \"deceasedBoolean\": false,\n",
        "    \"address\": [\n",
        "        {\n",
        "            \"use\": \"home\",\n",
        "            \"line\": [\n",
        "                \"534 Citadel St\"\n",
        "            ],\n",
        "            \"city\": \"Amarillo\",\n",
        "            \"state\": \"TX\",\n",
        "            \"postalCode\": \"79124\"\n",
        "        }\n",
        "    ],\n",
        "    \"contact\": [\n",
        "        {\n",
        "            \"relationship\": [\n",
        "                {\n",
        "                    \"coding\": [\n",
        "                        {\n",
        "                            \"system\": \"http://terminology.hl7.org/CodeSystem/v2-0131\",\n",
        "                            \"code\": \"C\",\n",
        "                            \"display\": \"Emergency Contact\"\n",
        "                        }\n",
        "                    ]\n",
        "                }\n",
        "            ],\n",
        "            \"name\": {\n",
        "                \"family\": \"Niko\",\n",
        "                \"given\": [\n",
        "                    \"Bénédicte\",\n",
        "                    \"du\"\n",
        "                ]\n",
        "            },\n",
        "            \"telecom\": [\n",
        "                {\n",
        "                    \"system\": \"phone\",\n",
        "                    \"value\": \"+33 (233) 998840\"\n",
        "                }\n",
        "            ]\n",
        "        }\n",
        "    ],\n",
        "    \"managingOrganization\": {\n",
        "        \"reference\": \"Organization/siim\"\n",
        "    }\n",
        "}"
      ],
      "metadata": {
        "id": "cqkZekwP2os9"
      }
    },
    {
      "cell_type": "markdown",
      "source": [
        "# New Section\n",
        "\n"
      ],
      "metadata": {
        "id": "SBhBRQLVPwvJ"
      }
    },
    {
      "cell_type": "code",
      "source": [
        "import requests\n",
        "import json\n",
        "\n",
        "url = \"https://hackathon.siim.org/fhir-r4/Patient\"\n",
        "\n",
        "payload = json.dumps({\n",
        "  \"resourceType\": \"Patient\",\n",
        "  \"id\": \"siimirene\",\n",
        "  \"meta\": {\n",
        "    \"versionId\": \"1\",\n",
        "    \"lastUpdated\": \"2024-06-27T07:04:52.102+00:00\",\n",
        "    \"source\": \"#Nvs8hlFxX5JkzXb6\"\n",
        "  },\n",
        "  \"text\": {\n",
        "    \"status\": \"generated\",\n",
        "    \"div\": \"<div xmlns=\\\"http://www.w3.org/1999/xhtml\\\">\\r\\n  <table>\\r\\n    <tbody>\\r\\n      <tr>\\r\\n        <td>Name</td>\\r\\n        <td>Thierry <b>SIIM</b></td>\\r\\n      </tr>\\r\\n      <tr>\\r\\n        <td>Address</td>\\r\\n        <td>534 Erewhon, Rochester, MD, 53999</td>\\r\\n      </tr>\\r\\n      <tr>\\r\\n        <td>Contacts</td>\\r\\n        <td>Home: unknown. Work: (03) 5555 6473</td>\\r\\n      </tr>\\r\\n      <tr>\\r\\n        <td>Id</td>\\r\\n        <td>MRN: BreastDx-01-0003 (TCIA)</td>\\r\\n      </tr>\\r\\n    </tbody>\\r\\n  </table>\\r\\n</div>\"\n",
        "  },\n",
        "  \"identifier\": [\n",
        "    {\n",
        "      \"use\": \"usual\",\n",
        "      \"system\": \"urn:oid:2.16.840.1.113883.6.1\",\n",
        "      \"value\": \"Irene_001\",\n",
        "      \"period\": {\n",
        "        \"start\": \"2019-04-02\"\n",
        "      },\n",
        "      \"assigner\": {\n",
        "        \"display\": \"TCIA\"\n",
        "      }\n",
        "    }\n",
        "  ],\n",
        "  \"active\": True,\n",
        "  \"name\": [\n",
        "    {\n",
        "      \"use\": \"official\",\n",
        "      \"family\": \"SIIM\",\n",
        "      \"given\": [\n",
        "        \"Irene\"\n",
        "      ]\n",
        "    },\n",
        "    {\n",
        "      \"use\": \"usual\",\n",
        "      \"given\": [\n",
        "        \"Irene\"\n",
        "      ]\n",
        "    }\n",
        "  ],\n",
        "  \"telecom\": [\n",
        "    {\n",
        "      \"use\": \"home\"\n",
        "    },\n",
        "    {\n",
        "      \"system\": \"phone\",\n",
        "      \"value\": \"(214) 529 8803\",\n",
        "      \"use\": \"work\"\n",
        "    }\n",
        "  ],\n",
        "  \"gender\": \"female\",\n",
        "  \"birthDate\": \"1960-06-11\",\n",
        "  \"deceasedBoolean\": False,\n",
        "  \"address\": [\n",
        "    {\n",
        "      \"use\": \"home\",\n",
        "      \"line\": [\n",
        "        \"534 Citadel St\"\n",
        "      ],\n",
        "      \"city\": \"Amarillo\",\n",
        "      \"state\": \"TX\",\n",
        "      \"postalCode\": \"79124\"\n",
        "    }\n",
        "  ],\n",
        "  \"contact\": [\n",
        "    {\n",
        "      \"relationship\": [\n",
        "        {\n",
        "          \"coding\": [\n",
        "            {\n",
        "              \"system\": \"http://terminology.hl7.org/CodeSystem/v2-0131\",\n",
        "              \"code\": \"C\",\n",
        "              \"display\": \"Emergency Contact\"\n",
        "            }\n",
        "          ]\n",
        "        }\n",
        "      ],\n",
        "      \"name\": {\n",
        "        \"family\": \"Niko\",\n",
        "        \"given\": [\n",
        "          \"Bénédicte\",\n",
        "          \"du\"\n",
        "        ]\n",
        "      },\n",
        "      \"telecom\": [\n",
        "        {\n",
        "          \"system\": \"phone\",\n",
        "          \"value\": \"+33 (233) 998840\"\n",
        "        }\n",
        "      ]\n",
        "    }\n",
        "  ],\n",
        "  \"managingOrganization\": {\n",
        "    \"reference\": \"Organization/siim\"\n",
        "  }\n",
        "})\n",
        "headers = {\n",
        "  'Content-Type': 'application/json',\n",
        "  'apikey': '095852d6-543c-4e06-98f0-11ffe7ffc105'\n",
        "}\n",
        "\n",
        "response = requests.request(\"POST\", url, headers=headers, data=payload)\n",
        "\n",
        "print(response.text)\n"
      ],
      "metadata": {
        "id": "gNaBtDMZP6gP"
      },
      "execution_count": null,
      "outputs": []
    },
    {
      "cell_type": "markdown",
      "source": [
        "# Script for Patient\n",
        "\n",
        "import requests\n",
        "import json\n",
        "\n",
        "url = \"https://hackathon.siim.org/fhir-r4/Patient\"\n",
        "\n",
        "payload = json.dumps({\n",
        "  \"resourceType\": \"Patient\",\n",
        "  \"id\": \"siimirene\",\n",
        "  \"meta\": {\n",
        "    \"versionId\": \"1\",\n",
        "    \"lastUpdated\": \"2024-06-27T07:04:52.102+00:00\",\n",
        "    \"source\": \"#Nvs8hlFxX5JkzXb6\"\n",
        "  },\n",
        "  \"text\": {\n",
        "    \"status\": \"generated\",\n",
        "    \"div\": \"<div xmlns=\\\"http://www.w3.org/1999/xhtml\\\">\\r\\n  <table>\\r\\n    <tbody>\\r\\n      <tr>\\r\\n        <td>Name</td>\\r\\n        <td>Thierry <b>SIIM</b></td>\\r\\n      </tr>\\r\\n      <tr>\\r\\n        <td>Address</td>\\r\\n        <td>534 Erewhon, Rochester, MD, 53999</td>\\r\\n      </tr>\\r\\n      <tr>\\r\\n        <td>Contacts</td>\\r\\n        <td>Home: unknown. Work: (03) 5555 6473</td>\\r\\n      </tr>\\r\\n      <tr>\\r\\n        <td>Id</td>\\r\\n        <td>MRN: BreastDx-01-0003 (TCIA)</td>\\r\\n      </tr>\\r\\n    </tbody>\\r\\n  </table>\\r\\n</div>\"\n",
        "  },\n",
        "  \"identifier\": [\n",
        "    {\n",
        "      \"use\": \"usual\",\n",
        "      \"system\": \"urn:oid:2.16.840.1.113883.6.1\",\n",
        "      \"value\": \"Irene_001\",\n",
        "      \"period\": {\n",
        "        \"start\": \"2019-04-02\"\n",
        "      },\n",
        "      \"assigner\": {\n",
        "        \"display\": \"TCIA\"\n",
        "      }\n",
        "    }\n",
        "  ],\n",
        "  \"active\": True,\n",
        "  \"name\": [\n",
        "    {\n",
        "      \"use\": \"official\",\n",
        "      \"family\": \"SIIM\",\n",
        "      \"given\": [\n",
        "        \"Irene\"\n",
        "      ]\n",
        "    },\n",
        "    {\n",
        "      \"use\": \"usual\",\n",
        "      \"given\": [\n",
        "        \"Irene\"\n",
        "      ]\n",
        "    }\n",
        "  ],\n",
        "  \"telecom\": [\n",
        "    {\n",
        "      \"use\": \"home\"\n",
        "    },\n",
        "    {\n",
        "      \"system\": \"phone\",\n",
        "      \"value\": \"(214) 529 8803\",\n",
        "      \"use\": \"work\"\n",
        "    }\n",
        "  ],\n",
        "  \"gender\": \"female\",\n",
        "  \"birthDate\": \"1960-06-11\",\n",
        "  \"deceasedBoolean\": False,\n",
        "  \"address\": [\n",
        "    {\n",
        "      \"use\": \"home\",\n",
        "      \"line\": [\n",
        "        \"534 Citadel St\"\n",
        "      ],\n",
        "      \"city\": \"Amarillo\",\n",
        "      \"state\": \"TX\",\n",
        "      \"postalCode\": \"79124\"\n",
        "    }\n",
        "  ],\n",
        "  \"contact\": [\n",
        "    {\n",
        "      \"relationship\": [\n",
        "        {\n",
        "          \"coding\": [\n",
        "            {\n",
        "              \"system\": \"http://terminology.hl7.org/CodeSystem/v2-0131\",\n",
        "              \"code\": \"C\",\n",
        "              \"display\": \"Emergency Contact\"\n",
        "            }\n",
        "          ]\n",
        "        }\n",
        "      ],\n",
        "      \"name\": {\n",
        "        \"family\": \"Niko\",\n",
        "        \"given\": [\n",
        "          \"Bénédicte\",\n",
        "          \"du\"\n",
        "        ]\n",
        "      },\n",
        "      \"telecom\": [\n",
        "        {\n",
        "          \"system\": \"phone\",\n",
        "          \"value\": \"+33 (233) 998840\"\n",
        "        }\n",
        "      ]\n",
        "    }\n",
        "  ],\n",
        "  \"managingOrganization\": {\n",
        "    \"reference\": \"Organization/siim\"\n",
        "  }\n",
        "})\n",
        "headers = {\n",
        "  'Content-Type': 'application/json',\n",
        "  'apikey': '095852d6-543c-4e06-98f0-11ffe7ffc105'\n",
        "}\n",
        "\n",
        "response = requests.request(\"POST\", url, headers=headers, data=payload)\n",
        "\n",
        "print(response.text)\n"
      ],
      "metadata": {
        "id": "iSW5XgTUPxZU"
      }
    },
    {
      "cell_type": "markdown",
      "source": [
        "# Undesirable Effects Micro Hemmorrhage JSON\n",
        "\n",
        "{\n",
        "  \"resourceType\" : \"MedicinalProductUndesirableEffect\",\n",
        "  \"subject\" : [{ Reference(MedicinalProduct|Medication) }], // The medication for which this is an indication\n",
        "  \"symptomConditionEffect\" : {\n",
        "      \"coding\": [\n",
        "        {\n",
        "          \"system\": \"http://hl7.org/fhir/ValueSet/icd-10\"\n",
        "          \"code\": \"I61.8\"\n",
        "        }\n",
        "      ],\n",
        "      \"text\": \"Other nontraumatic intracerebral hemorrhage\"\n",
        "  }\n",
        "}"
      ],
      "metadata": {
        "id": "DDmHZ2tC21EH"
      }
    },
    {
      "cell_type": "markdown",
      "source": [
        "# Medication JSON\n",
        "{\n",
        "    \"resourceType\": \"Medication\",\n",
        "    \"id\": \"m126202002\",\n",
        "    \"meta\": {\n",
        "        \"versionId\": \"1\",\n",
        "        \"lastUpdated\": \"2024-06-27T07:04:49.767+00:00\",\n",
        "        \"source\": \"#d8XrESTk5pP0zZZE\"\n",
        "    },\n",
        "    \"text\": {\n",
        "        \"status\": \"generated\",\n",
        "        \"div\": \"<div xmlns=\\\"http://www.w3.org/1999/xhtml\\\"><div class=\\\"hapiHeaderText\\\"> Levothyroxine sodium </div></div>\"\n",
        "    },\n",
        "    \"code\": {\n",
        "        \"coding\": [\n",
        "            {\n",
        "                \"system\": \"http://snomed.info/sct\",\n",
        "                \"code\": \"126202002\",\n",
        "                \"display\": \"Lecanemab\"\n",
        "            }\n",
        "        ]\n",
        "    },\n",
        "    \"doseForm\": {\n",
        "        \"coding\": [\n",
        "            {\n",
        "                \"system\": \"http://snomed.info/sct\",\n",
        "                \"code\": \"46992007\",\n",
        "                \"display\": \"Pill\"\n",
        "            }\n",
        "        ]\n",
        "    }\n",
        "}"
      ],
      "metadata": {
        "id": "B-wDFcD_2vuI"
      }
    },
    {
      "cell_type": "markdown",
      "source": [
        "# Script for Medicinal Product Undesireable Effect\n",
        "\n"
      ],
      "metadata": {
        "id": "6geN-lMNS2eW"
      }
    },
    {
      "cell_type": "markdown",
      "source": [
        "# Read Medicinal Product Undesireable Effect\n",
        "\n"
      ],
      "metadata": {
        "id": "UoRqhX56WSR3"
      }
    },
    {
      "cell_type": "code",
      "source": [
        "import requests\n",
        "import json\n",
        "\n",
        "url = \"http://hackathon.siim.org/fhir-r4/MedicinalProductUndesirableEffect/148\"\n",
        "\n",
        "payload = json.dumps({\n",
        "  \"resourceType\": \"MedicinalProductUndesirableEffect\",\n",
        "  \"symptomConditionEffect\": {\n",
        "    \"coding\": [\n",
        "      {\n",
        "        \"system\": \"http://hl7.org/fhir/ValueSet/icd-10\",\n",
        "        \"code\": \"I61.8\"\n",
        "      }\n",
        "    ],\n",
        "    \"text\": \"Other nontraumatic intracerebral hemorrhage\"\n",
        "  }\n",
        "})\n",
        "headers = {\n",
        "  'apikey': 'c1cf50ab-18b2-4f87-86ac-76dbc2f69377',\n",
        "  'Content-Type': 'application/json',\n",
        "  'Accept': 'text/json'\n",
        "}\n",
        "\n",
        "response = requests.request(\"GET\", url, headers=headers, data=payload).json()\n",
        "\n",
        "print(response['id'])"
      ],
      "metadata": {
        "colab": {
          "base_uri": "https://localhost:8080/"
        },
        "id": "UFNYlUulWXWv",
        "outputId": "ba0fcf2f-91d7-440f-ef16-7b0d350036d5"
      },
      "execution_count": null,
      "outputs": [
        {
          "output_type": "stream",
          "name": "stdout",
          "text": [
            "148\n"
          ]
        }
      ]
    },
    {
      "cell_type": "markdown",
      "source": [
        "# Read Patient"
      ],
      "metadata": {
        "id": "-jqVgd-qWbCX"
      }
    },
    {
      "cell_type": "markdown",
      "source": [
        "# Read diagnostic report\n"
      ],
      "metadata": {
        "id": "PsDQQOJwk26I"
      }
    },
    {
      "cell_type": "code",
      "source": [
        "import requests\n",
        "import json\n",
        "\n",
        "url = \"https://hackathon.siim.org/fhir-r4/DiagnosticReport/153\"\n",
        "\n",
        "payload = \"# Diagnostic Report JSON\\r\\n\\r\\n{\\r\\n  \\\"resourceType\\\" : \\\"DiagnosticReport\\\",\\r\\n  \\\"id\\\" : \\\"ex-DiagnosticReport\\\",\\r\\n  \\\"meta\\\" : {\\r\\n    \\\"profile\\\" : [\\r\\n      🔗 \\\"https://profiles.ihe.net/RAD/IMR/StructureDefinition/imr-diagnosticreport\\\"\\r\\n    ]\\r\\n  },\\r\\n  \\\"text\\\" : {\\r\\n    \\\"status\\\" : \\\"additional\\\",\\r\\n    \\\"div\\\" : \\\"<div xmlns=\\\\\\\"http://www.w3.org/1999/xhtml\\\\\\\"><div>INDICATION: History: 24M with stent placement in the left main bronchus presents with right sided chest pain since 9am</div><p></p><div>TECHNIQUE: Volumetric, multidetector CT of the chest was performed without intravenous or oral contrast administration. Images are presented for display in the axial plane at 5 mm and 1.25 mm collimation. A series of multiplanar reformation images are also submitted for review.</div><p></p><div>DLP: 373 mGy-cm.</div><p></p><h2>FINDINGS:</h2><div>The imaged portion of a thyroid gland is unremarkable. Prominent or mildly enlarged mediastinal and bilateral hilar lymph nodes measure up to 1.2 x 0.8 cm in the right paratracheal station <span class=\\\\\\\"imr-ref-ImagingSelection\\\\\\\" id=\\\\\\\"ImagingSelection/123\\\\\\\">(2:12)</span>, 2.3 x 1.4 cm in the subcarinal station <span class=\\\\\\\"imr-ref-ImagingSelection\\\\\\\" id=\\\\\\\"ImagingSelection/234\\\\\\\">(2:18)</span>, and 1.4 x 0.9 cm in the right hilar stations <span class=\\\\\\\"imr-ref-ImagingSelection\\\\\\\" id=\\\\\\\"ImagingSelection/345\\\\\\\">(2:16)</span>. No significant axillary lymphadenopathy is detected. The esophagus is unremarkable. The thoracic aorta is normal in caliber with a typical 3 vessel takeoff from the arch. The pulmonary arterial trunk is normal in caliber. The heart is normal in size without pericardial effusion.</div><p></p><div>There is focal narrowing of the proximal portion of the bronchial stent in the left mainstem bronchus (601b:56), which is nearly collapsed and appears new from the prior chest radiograph. Trace fluid or debris is seen in the distal lumen of the stent <span class=\\\\\\\"imr-ref-ImagingSelection\\\\\\\" id=\\\\\\\"ImagingSelection/456\\\\\\\">(4:71)</span>. A tracheostomy tube is unchanged in position without evidence of complications. There is circumferential thickening of the tracheal and bronchial walls, which is unchanged, in keeping with the patient's known diagnosis of polychondritis. The remainder of the tracheobronchial tree is patent to the subsegmental levels. The airways are normal in caliber.</div><p></p><div>Within the pulmonary parenchyma, there is diffuse peribronchovascular nodular and ground-glass opacities becoming confluent in the right middle <span class=\\\\\\\"imr-ref-ImagingSelection\\\\\\\" id=\\\\\\\"ImagingSelection/567\\\\\\\">(601:52)</span> and left upper <span class=\\\\\\\"imr-ref-ImagingSelection\\\\\\\" id=\\\\\\\"ImagingSelection/678\\\\\\\">(601:65)</span> and lower lobes <span class=\\\\\\\"imr-ref-ImagingSelection\\\\\\\" id=\\\\\\\"ImagingSelection/789\\\\\\\">(601:72)</span> consistent with multifocal pneumonia. There is a small left and trace right pleural effusion. No pneumothorax is present. There are no suspicious masses or pleural abnormalities.</div><p></p><div>The patient is status post median sternotomy with intact sternal wires. No blastic or lytic lesion suspicious for malignancy is present.</div><p></p><div>Although this study is not tailored for the evaluation of subdiaphragmatic contents, the imaged upper abdomen demonstrates diffuse hypoattenuation of the liver consistent with hepatic steatosis.</div><p></p><h2>IMPRESSION:</h2><ol><li>Multifocal pneumonia involving the right middle, left upper and left lower lobes with small left and trace right pleural effusions.</li><li>Central medianstinal lymphadenopathy is likely reactive.</li><li>Focal stenosis of the proximal portion of the left main stem bronchial stent, which appears new from the prior chest radiograph. There is trace fluid or debris within the distal lumen of the stent.</li><li>Unchanged circumferential thickening of the tracheal and bronchial walls, in keeping with the patient's known diagnosis of polychondritis.</li><li>Hepatic steatosis.</li></ol></div>\\\"\\r\\n  },\\r\\n  \\\"extension\\\" : [\\r\\n    {\\r\\n      \\\"url\\\" : \\\"https://profiles.ihe.net/RAD/IMR/StructureDefinition/associatedStudy\\\",\\r\\n      \\\"valueReference\\\" : {\\r\\n        🔗 \\\"reference\\\" : \\\"ImagingStudy/ex-ImagingStudy-Comparison\\\"\\r\\n      }\\r\\n    }\\r\\n  ],\\r\\n  \\\"basedOn\\\" : [\\r\\n    {\\r\\n      🔗 \\\"reference\\\" : \\\"ServiceRequest/ex-ServiceRequest\\\"\\r\\n    }\\r\\n  ],\\r\\n  \\\"status\\\" : \\\"final\\\",\\r\\n  \\\"category\\\" : [\\r\\n    {\\r\\n      \\\"coding\\\" : [\\r\\n        {\\r\\n          \\\"system\\\" : \\\"http://terminology.hl7.org/CodeSystem/v2-0074\\\",\\r\\n          \\\"code\\\" : \\\"RAD\\\",\\r\\n          \\\"display\\\" : \\\"Radiology\\\"\\r\\n        }\\r\\n      ]\\r\\n    }\\r\\n  ],\\r\\n  \\\"code\\\" : {\\r\\n    \\\"coding\\\" : [\\r\\n      {\\r\\n        \\\"system\\\" : \\\"http://loinc.org\\\",\\r\\n        \\\"code\\\" : \\\"24587-8\\\",\\r\\n        \\\"display\\\" : \\\"MR Brain WO and W contrast IV\\\"\\r\\n      }\\r\\n    ]\\r\\n  },\\r\\n  \\\"subject\\\" : {\\r\\n    🔗 \\\"reference\\\" : \\\"Patient/ex-Patient\\\"\\r\\n  },\\r\\n  \\\"effectiveDateTime\\\" : \\\"2020-12-31T23:50:50-05:00\\\",\\r\\n  \\\"issued\\\" : \\\"2020-12-31T23:55:50-05:00\\\",\\r\\n  \\\"performer\\\" : [\\r\\n    {\\r\\n      🔗 \\\"reference\\\" : \\\"Organization/ex-Organization\\\"\\r\\n    }\\r\\n  ],\\r\\n  \\\"resultsInterpreter\\\" : [\\r\\n    {\\r\\n      🔗 \\\"reference\\\" : \\\"Practitioner/ex-Practitioner\\\"\\r\\n    }\\r\\n  ],\\r\\n  \\\"imagingStudy\\\" : [\\r\\n    {\\r\\n      🔗 \\\"reference\\\" : \\\"ImagingStudy/ex-ImagingStudy\\\"\\r\\n    }\\r\\n  ],\\r\\n  \\\"presentedForm\\\" : [\\r\\n    {\\r\\n      \\\"contentType\\\" : \\\"text/html\\\",\\r\\n      \\\"data\\\" : \\\"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\\\",\\r\\n      \\\"size\\\" : 3514,\\r\\n      \\\"hash\\\" : \\\"4ED94777DD88C61F3A4D2C50DE6D92E8E53EE5CA\\\"\\r\\n    }\\r\\n  ]\\r\\n}\"\n",
        "headers = {\n",
        "  'apikey': 'c1cf50ab-18b2-4f87-86ac-76dbc2f69377',\n",
        "  'Content-Type': 'application/json',\n",
        "  'Accept': 'text/json'\n",
        "}\n",
        "\n",
        "response = requests.request(\"GET\", url, headers=headers, data=payload).json()\n",
        "\n",
        "print(response[\"conclusion\"])\n"
      ],
      "metadata": {
        "id": "F77TgsbDk_HS",
        "colab": {
          "base_uri": "https://localhost:8080/"
        },
        "outputId": "4e7fc21b-085f-4b77-841d-cfcb9c8b6e0a"
      },
      "execution_count": null,
      "outputs": [
        {
          "output_type": "stream",
          "name": "stdout",
          "text": [
            "Found hemorrhage in head:(\n"
          ]
        }
      ]
    },
    {
      "cell_type": "markdown",
      "source": [
        "#Script for diagnostic report\n"
      ],
      "metadata": {
        "id": "FaNWhpnjlAEv"
      }
    },
    {
      "cell_type": "code",
      "source": [
        "import requests\n",
        "import json\n",
        "\n",
        "url = \"https://hackathon.siim.org/fhir-r4/DiagnosticReport\"\n",
        "\n",
        "payload = \"# Diagnostic Report JSON\\r\\n\\r\\n{\\r\\n  \\\"resourceType\\\" : \\\"DiagnosticReport\\\",\\r\\n  \\\"id\\\" : \\\"ex-DiagnosticReport\\\",\\r\\n  \\\"meta\\\" : {\\r\\n    \\\"profile\\\" : [\\r\\n      🔗 \\\"https://profiles.ihe.net/RAD/IMR/StructureDefinition/imr-diagnosticreport\\\"\\r\\n    ]\\r\\n  },\\r\\n  \\\"text\\\" : {\\r\\n    \\\"status\\\" : \\\"additional\\\",\\r\\n    \\\"div\\\" : \\\"<div xmlns=\\\\\\\"http://www.w3.org/1999/xhtml\\\\\\\"><div>INDICATION: History: 24M with stent placement in the left main bronchus presents with right sided chest pain since 9am</div><p></p><div>TECHNIQUE: Volumetric, multidetector CT of the chest was performed without intravenous or oral contrast administration. Images are presented for display in the axial plane at 5 mm and 1.25 mm collimation. A series of multiplanar reformation images are also submitted for review.</div><p></p><div>DLP: 373 mGy-cm.</div><p></p><h2>FINDINGS:</h2><div>The imaged portion of a thyroid gland is unremarkable. Prominent or mildly enlarged mediastinal and bilateral hilar lymph nodes measure up to 1.2 x 0.8 cm in the right paratracheal station <span class=\\\\\\\"imr-ref-ImagingSelection\\\\\\\" id=\\\\\\\"ImagingSelection/123\\\\\\\">(2:12)</span>, 2.3 x 1.4 cm in the subcarinal station <span class=\\\\\\\"imr-ref-ImagingSelection\\\\\\\" id=\\\\\\\"ImagingSelection/234\\\\\\\">(2:18)</span>, and 1.4 x 0.9 cm in the right hilar stations <span class=\\\\\\\"imr-ref-ImagingSelection\\\\\\\" id=\\\\\\\"ImagingSelection/345\\\\\\\">(2:16)</span>. No significant axillary lymphadenopathy is detected. The esophagus is unremarkable. The thoracic aorta is normal in caliber with a typical 3 vessel takeoff from the arch. The pulmonary arterial trunk is normal in caliber. The heart is normal in size without pericardial effusion.</div><p></p><div>There is focal narrowing of the proximal portion of the bronchial stent in the left mainstem bronchus (601b:56), which is nearly collapsed and appears new from the prior chest radiograph. Trace fluid or debris is seen in the distal lumen of the stent <span class=\\\\\\\"imr-ref-ImagingSelection\\\\\\\" id=\\\\\\\"ImagingSelection/456\\\\\\\">(4:71)</span>. A tracheostomy tube is unchanged in position without evidence of complications. There is circumferential thickening of the tracheal and bronchial walls, which is unchanged, in keeping with the patient's known diagnosis of polychondritis. The remainder of the tracheobronchial tree is patent to the subsegmental levels. The airways are normal in caliber.</div><p></p><div>Within the pulmonary parenchyma, there is diffuse peribronchovascular nodular and ground-glass opacities becoming confluent in the right middle <span class=\\\\\\\"imr-ref-ImagingSelection\\\\\\\" id=\\\\\\\"ImagingSelection/567\\\\\\\">(601:52)</span> and left upper <span class=\\\\\\\"imr-ref-ImagingSelection\\\\\\\" id=\\\\\\\"ImagingSelection/678\\\\\\\">(601:65)</span> and lower lobes <span class=\\\\\\\"imr-ref-ImagingSelection\\\\\\\" id=\\\\\\\"ImagingSelection/789\\\\\\\">(601:72)</span> consistent with multifocal pneumonia. There is a small left and trace right pleural effusion. No pneumothorax is present. There are no suspicious masses or pleural abnormalities.</div><p></p><div>The patient is status post median sternotomy with intact sternal wires. No blastic or lytic lesion suspicious for malignancy is present.</div><p></p><div>Although this study is not tailored for the evaluation of subdiaphragmatic contents, the imaged upper abdomen demonstrates diffuse hypoattenuation of the liver consistent with hepatic steatosis.</div><p></p><h2>IMPRESSION:</h2><ol><li>Multifocal pneumonia involving the right middle, left upper and left lower lobes with small left and trace right pleural effusions.</li><li>Central medianstinal lymphadenopathy is likely reactive.</li><li>Focal stenosis of the proximal portion of the left main stem bronchial stent, which appears new from the prior chest radiograph. There is trace fluid or debris within the distal lumen of the stent.</li><li>Unchanged circumferential thickening of the tracheal and bronchial walls, in keeping with the patient's known diagnosis of polychondritis.</li><li>Hepatic steatosis.</li></ol></div>\\\"\\r\\n  },\\r\\n  \\\"extension\\\" : [\\r\\n    {\\r\\n      \\\"url\\\" : \\\"https://profiles.ihe.net/RAD/IMR/StructureDefinition/associatedStudy\\\",\\r\\n      \\\"valueReference\\\" : {\\r\\n        🔗 \\\"reference\\\" : \\\"ImagingStudy/ex-ImagingStudy-Comparison\\\"\\r\\n      }\\r\\n    }\\r\\n  ],\\r\\n  \\\"basedOn\\\" : [\\r\\n    {\\r\\n      🔗 \\\"reference\\\" : \\\"ServiceRequest/ex-ServiceRequest\\\"\\r\\n    }\\r\\n  ],\\r\\n  \\\"status\\\" : \\\"final\\\",\\r\\n  \\\"category\\\" : [\\r\\n    {\\r\\n      \\\"coding\\\" : [\\r\\n        {\\r\\n          \\\"system\\\" : \\\"http://terminology.hl7.org/CodeSystem/v2-0074\\\",\\r\\n          \\\"code\\\" : \\\"RAD\\\",\\r\\n          \\\"display\\\" : \\\"Radiology\\\"\\r\\n        }\\r\\n      ]\\r\\n    }\\r\\n  ],\\r\\n  \\\"code\\\" : {\\r\\n    \\\"coding\\\" : [\\r\\n      {\\r\\n        \\\"system\\\" : \\\"http://loinc.org\\\",\\r\\n        \\\"code\\\" : \\\"24587-8\\\",\\r\\n        \\\"display\\\" : \\\"MR Brain WO and W contrast IV\\\"\\r\\n      }\\r\\n    ]\\r\\n  },\\r\\n  \\\"subject\\\" : {\\r\\n    🔗 \\\"reference\\\" : \\\"Patient/ex-Patient\\\"\\r\\n  },\\r\\n  \\\"effectiveDateTime\\\" : \\\"2020-12-31T23:50:50-05:00\\\",\\r\\n  \\\"issued\\\" : \\\"2020-12-31T23:55:50-05:00\\\",\\r\\n  \\\"performer\\\" : [\\r\\n    {\\r\\n      🔗 \\\"reference\\\" : \\\"Organization/ex-Organization\\\"\\r\\n    }\\r\\n  ],\\r\\n  \\\"resultsInterpreter\\\" : [\\r\\n    {\\r\\n      🔗 \\\"reference\\\" : \\\"Practitioner/ex-Practitioner\\\"\\r\\n    }\\r\\n  ],\\r\\n  \\\"imagingStudy\\\" : [\\r\\n    {\\r\\n      🔗 \\\"reference\\\" : \\\"ImagingStudy/ex-ImagingStudy\\\"\\r\\n    }\\r\\n  ],\\r\\n  \\\"presentedForm\\\" : [\\r\\n    {\\r\\n      \\\"contentType\\\" : \\\"text/html\\\",\\r\\n      \\\"data\\\" : \\\"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\\\",\\r\\n      \\\"size\\\" : 3514,\\r\\n      \\\"hash\\\" : \\\"4ED94777DD88C61F3A4D2C50DE6D92E8E53EE5CA\\\"\\r\\n    }\\r\\n  ]\\r\\n}\"\n",
        "headers = {\n",
        "  'apikey': 'c1cf50ab-18b2-4f87-86ac-76dbc2f69377',\n",
        "  'Content-Type': 'application/json',\n",
        "  'Accept': 'text/json'\n",
        "}\n",
        "\n",
        "response = requests.request(\"GET\", url, headers=headers, data=payload)\n",
        "\n",
        "print(response.text)\n"
      ],
      "metadata": {
        "id": "vVtdoNa_lFJ-"
      },
      "execution_count": null,
      "outputs": []
    },
    {
      "cell_type": "code",
      "source": [
        "import requests\n",
        "import json\n",
        "\n",
        "url = \"http://hackathon.siim.org/fhir-r4/Patient/siimirene\"\n",
        "\n",
        "payload = json.dumps({\n",
        "  \"resourceType\": \"MedicinalProductUndesirableEffect\",\n",
        "  \"symptomConditionEffect\": {\n",
        "    \"coding\": [\n",
        "      {\n",
        "          \"system\": \"http://hl7.org/fhir/ValueSet/icd-10\",\n",
        "        \"code\": \"I61.8\"\n",
        "      }\n",
        "    ],\n",
        "    \"text\": \"Other nontraumatic intracerebral hemorrhage\"\n",
        "  }\n",
        "})\n",
        "headers = {\n",
        "  'apikey': 'c1cf50ab-18b2-4f87-86ac-76dbc2f69377',\n",
        "  'Content-Type': 'application/json',\n",
        "  'Accept': 'text/json'\n",
        "}\n",
        "\n",
        "response = requests.request(\"GET\", url, headers=headers, data=payload).json()\n",
        "\n",
        "print(response['id'])"
      ],
      "metadata": {
        "colab": {
          "base_uri": "https://localhost:8080/"
        },
        "id": "r9E6bVoyWdVN",
        "outputId": "3e7ad2a8-ed29-49fb-bf72-1f7319090142"
      },
      "execution_count": null,
      "outputs": [
        {
          "output_type": "stream",
          "name": "stdout",
          "text": [
            "siimirene\n"
          ]
        }
      ]
    },
    {
      "cell_type": "code",
      "source": [
        "import requests\n",
        "import json\n",
        "\n",
        "url = \"http://hackathon.siim.org/fhir-r4/MedicinalProductUndesirableEffect/\"\n",
        "\n",
        "payload = json.dumps({\n",
        "  \"resourceType\": \"MedicinalProductUndesirableEffect\",\n",
        "  \"symptomConditionEffect\": {\n",
        "    \"coding\": [\n",
        "      {\n",
        "        \"system\": \"http://hl7.org/fhir/ValueSet/icd-10\",\n",
        "        \"code\": \"I61.8\"\n",
        "      }\n",
        "    ],\n",
        "    \"text\": \"Other nontraumatic intracerebral hemorrhage\"\n",
        "  }\n",
        "})\n",
        "headers = {\n",
        "  'apikey': 'c1cf50ab-18b2-4f87-86ac-76dbc2f69377',\n",
        "  'Content-Type': 'application/json',\n",
        "  'Accept': 'text/json'\n",
        "}\n",
        "\n",
        "response = requests.request(\"POST\", url, headers=headers, data=payload)\n",
        "\n",
        "print(response.text)"
      ],
      "metadata": {
        "colab": {
          "base_uri": "https://localhost:8080/"
        },
        "id": "1mnQWlLuTEyA",
        "outputId": "3df81c38-31b7-466c-8a87-b903e0a46821"
      },
      "execution_count": null,
      "outputs": [
        {
          "output_type": "stream",
          "name": "stdout",
          "text": [
            "{\n",
            "  \"resourceType\": \"MedicinalProductUndesirableEffect\",\n",
            "  \"id\": \"149\",\n",
            "  \"meta\": {\n",
            "    \"versionId\": \"1\",\n",
            "    \"lastUpdated\": \"2024-06-27T20:04:25.579+00:00\",\n",
            "    \"source\": \"#7CJx50mVriKJiByE\"\n",
            "  },\n",
            "  \"symptomConditionEffect\": {\n",
            "    \"coding\": [ {\n",
            "      \"system\": \"http://hl7.org/fhir/ValueSet/icd-10\",\n",
            "      \"code\": \"I61.8\"\n",
            "    } ],\n",
            "    \"text\": \"Other nontraumatic intracerebral hemorrhage\"\n",
            "  }\n",
            "}\n"
          ]
        }
      ]
    }
  ]
}